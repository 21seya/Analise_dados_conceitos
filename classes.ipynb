{
 "cells": [
  {
   "cell_type": "code",
   "execution_count": 1,
   "metadata": {},
   "outputs": [
    {
     "name": "stdout",
     "output_type": "stream",
     "text": [
      "<__main__.pessoa object at 0x000001A5A52B1F70>\n"
     ]
    }
   ],
   "source": [
    "class pessoa:\n",
    "\n",
    "    def __init__(self,Nome,Idade):\n",
    "        self.Nome = Nome \n",
    "        self.Idade = Idade\n",
    "\n",
    "    def Boas_Vindas(self):\n",
    "        print(\"Seja bem Vindo\",self.Nome)\n",
    "\n",
    "    def Recusado(self):\n",
    "        print(\"Seu acesso foi recusado!\")\n",
    "        \n",
    "    #função \n",
    "    def Maior_Idade(self):\n",
    "        if self.Idade >= 18:\n",
    "            print('USUÁRIO É MAIOR DE IDADE')\n",
    "            self.Boas_Vindas()\n",
    "        else:\n",
    "            print(\"USUARIO É MENOR DE IDADE\") \n",
    "            self.Recusado()\n",
    "\n",
    "dados_pessoa = pessoa('Wallace',30)\n",
    "print(dados_pessoa)        \n"
   ]
  }
 ],
 "metadata": {
  "kernelspec": {
   "display_name": "Python 3",
   "language": "python",
   "name": "python3"
  },
  "language_info": {
   "codemirror_mode": {
    "name": "ipython",
    "version": 3
   },
   "file_extension": ".py",
   "mimetype": "text/x-python",
   "name": "python",
   "nbconvert_exporter": "python",
   "pygments_lexer": "ipython3",
   "version": "3.9.2"
  }
 },
 "nbformat": 4,
 "nbformat_minor": 2
}
