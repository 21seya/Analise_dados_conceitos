{
 "cells": [
  {
   "cell_type": "code",
   "execution_count": 2,
   "metadata": {},
   "outputs": [
    {
     "name": "stdout",
     "output_type": "stream",
     "text": [
      "elis\n",
      "12\n",
      "Ela não pode beber\n"
     ]
    }
   ],
   "source": [
    "nome = input('Digite seu nome..')\n",
    "print(nome)\n",
    "idade = int(input('Digte a sua idade..'))\n",
    "print(idade)\n",
    "\n",
    "if idade >=18:\n",
    "    print('Ela pode beber')\n",
    "else:\n",
    "    print('Ela não pode beber')    "
   ]
  },
  {
   "cell_type": "code",
   "execution_count": 3,
   "metadata": {},
   "outputs": [
    {
     "name": "stdout",
     "output_type": "stream",
     "text": [
      "Eh maior de idade\n",
      "None\n"
     ]
    }
   ],
   "source": [
    "def inserir_registros(idade):\n",
    "    if idade >= 18:\n",
    "        print('Eh maior de idade')\n",
    "    else:\n",
    "        print('Não eh maior de idade')\n",
    "\n",
    "pessoa = inserir_registros(20)\n",
    "print(pessoa)\n"
   ]
  }
 ],
 "metadata": {
  "kernelspec": {
   "display_name": "Python 3",
   "language": "python",
   "name": "python3"
  },
  "language_info": {
   "codemirror_mode": {
    "name": "ipython",
    "version": 3
   },
   "file_extension": ".py",
   "mimetype": "text/x-python",
   "name": "python",
   "nbconvert_exporter": "python",
   "pygments_lexer": "ipython3",
   "version": "3.9.2"
  }
 },
 "nbformat": 4,
 "nbformat_minor": 2
}
