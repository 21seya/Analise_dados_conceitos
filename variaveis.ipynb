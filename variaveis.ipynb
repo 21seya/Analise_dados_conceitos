{
 "cells": [
  {
   "cell_type": "markdown",
   "metadata": {},
   "source": [
    "Variaveis"
   ]
  },
  {
   "cell_type": "code",
   "execution_count": 1,
   "metadata": {},
   "outputs": [
    {
     "name": "stdout",
     "output_type": "stream",
     "text": [
      "aprendendo Python\n"
     ]
    }
   ],
   "source": [
    "nome = 'aprendendo Python'\n",
    "print(nome)"
   ]
  },
  {
   "cell_type": "code",
   "execution_count": 2,
   "metadata": {},
   "outputs": [
    {
     "data": {
      "text/plain": [
       "'ola mundo'"
      ]
     },
     "execution_count": 2,
     "metadata": {},
     "output_type": "execute_result"
    }
   ],
   "source": [
    "var_texto = 'ola mundo'\n",
    "\n",
    "var_texto"
   ]
  },
  {
   "cell_type": "code",
   "execution_count": 3,
   "metadata": {},
   "outputs": [
    {
     "name": "stdout",
     "output_type": "stream",
     "text": [
      "123\n"
     ]
    }
   ],
   "source": [
    "var_numero = 123\n",
    "print(var_numero)"
   ]
  },
  {
   "cell_type": "code",
   "execution_count": 4,
   "metadata": {},
   "outputs": [
    {
     "name": "stdout",
     "output_type": "stream",
     "text": [
      "2345\n"
     ]
    }
   ],
   "source": [
    "var_converter = '2345'\n",
    "print(str(var_converter))"
   ]
  },
  {
   "cell_type": "code",
   "execution_count": 5,
   "metadata": {},
   "outputs": [],
   "source": [
    "def aprendizado_pyspark(data):\n",
    "    data = []\n",
    "    for __ in range(data):\n",
    "        __.append(data)\n",
    "    \n",
    "    return data"
   ]
  },
  {
   "cell_type": "code",
   "execution_count": null,
   "metadata": {},
   "outputs": [],
   "source": [
    "def aprendizagem(codigo):\n",
    "    return codigo"
   ]
  },
  {
   "cell_type": "code",
   "execution_count": 6,
   "metadata": {},
   "outputs": [],
   "source": [
    "def aprender():\n",
    "    lista = [1234]\n",
    "    for i in range(lista):\n",
    "        i.append(lista)\n",
    "    return lista    "
   ]
  },
  {
   "cell_type": "code",
   "execution_count": 8,
   "metadata": {},
   "outputs": [
    {
     "name": "stdout",
     "output_type": "stream",
     "text": [
      "{'id': 1, 'nome': 'Roger'}\n"
     ]
    }
   ],
   "source": [
    "dict = {\n",
    "    'id':1,\n",
    "    'nome':'Roger'\n",
    "}\n",
    "print(dict)"
   ]
  },
  {
   "cell_type": "code",
   "execution_count": null,
   "metadata": {},
   "outputs": [],
   "source": [
    "def dados_extrair():\n",
    "    ler_dados = 'path'\n",
    "    with open('r') as file:\n",
    "        ler_dados.endswith('dados')\n",
    "    for dados_recebidos in ler_dados:\n",
    "        dados_recebidos.append(ler_dados)\n",
    "\n",
    "    return dados_recebidos       \n",
    "        "
   ]
  },
  {
   "cell_type": "code",
   "execution_count": null,
   "metadata": {},
   "outputs": [],
   "source": [
    "def forma_pagemento(pagar):\n",
    "    if pagar == 'Cartao_credito':\n",
    "        print(pagar)\n",
    "    elif pagar == 'Cartao_debito':\n",
    "        print(pagar)\n",
    "    elif pagar == 'Pix':\n",
    "        print(pagar)\n",
    "    elif pagar == 'Bitcoin':\n",
    "        print(pagar)        "
   ]
  },
  {
   "cell_type": "code",
   "execution_count": null,
   "metadata": {},
   "outputs": [],
   "source": [
    "def update_dados(dados):\n",
    "    new_dados = []\n",
    "    for i in range(dados):\n",
    "        i.append(new_dados[dados])\n",
    "    return new_dados   "
   ]
  },
  {
   "cell_type": "code",
   "execution_count": null,
   "metadata": {},
   "outputs": [],
   "source": []
  }
 ],
 "metadata": {
  "kernelspec": {
   "display_name": "Python 3",
   "language": "python",
   "name": "python3"
  },
  "language_info": {
   "codemirror_mode": {
    "name": "ipython",
    "version": 3
   },
   "file_extension": ".py",
   "mimetype": "text/x-python",
   "name": "python",
   "nbconvert_exporter": "python",
   "pygments_lexer": "ipython3",
   "version": "3.9.2"
  }
 },
 "nbformat": 4,
 "nbformat_minor": 2
}
