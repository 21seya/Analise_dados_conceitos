{
 "cells": [
  {
   "cell_type": "code",
   "execution_count": 3,
   "metadata": {},
   "outputs": [
    {
     "name": "stdout",
     "output_type": "stream",
     "text": [
      "['o', 'l', 'a']\n"
     ]
    }
   ],
   "source": [
    "def aprender(dados):\n",
    "    lista_new_dados = []\n",
    "    for i in dados:\n",
    "        lista_new_dados.append(i)\n",
    "\n",
    "    return lista_new_dados\n",
    "\n",
    "dados_novos = aprender('ola')\n",
    "print(dados_novos)    "
   ]
  },
  {
   "cell_type": "code",
   "execution_count": 4,
   "metadata": {},
   "outputs": [
    {
     "name": "stdout",
     "output_type": "stream",
     "text": [
      "3\n"
     ]
    }
   ],
   "source": [
    "def somar(valor_1,valor_2):\n",
    "    return valor_1+ valor_2\n",
    "\n",
    "dados = somar(1,2)\n",
    "print(dados)    \n"
   ]
  },
  {
   "cell_type": "code",
   "execution_count": 6,
   "metadata": {},
   "outputs": [
    {
     "name": "stdout",
     "output_type": "stream",
     "text": [
      "3\n"
     ]
    }
   ],
   "source": [
    "def somar(valor_1,valor_2):\n",
    "    soma = valor_1+valor_2\n",
    "    print(soma)\n",
    "\n",
    "dados = somar(1,2)"
   ]
  },
  {
   "cell_type": "code",
   "execution_count": 9,
   "metadata": {},
   "outputs": [
    {
     "name": "stdout",
     "output_type": "stream",
     "text": [
      "None\n"
     ]
    }
   ],
   "source": [
    "def pagamento(opcao):\n",
    "    if opcao == 'Cartao Credito':\n",
    "        if opcao == 'Cartao de Debito':\n",
    "            if opcao == 'Pix':\n",
    "                return opcao\n",
    "pagar = pagamento('Pix')\n",
    "print(pagar)\n",
    "\n",
    "        "
   ]
  },
  {
   "cell_type": "code",
   "execution_count": 15,
   "metadata": {},
   "outputs": [
    {
     "name": "stdout",
     "output_type": "stream",
     "text": [
      "Comprou via Pix\n"
     ]
    }
   ],
   "source": [
    "def pagamento(opcao):\n",
    "    if opcao == 'Cartao Credito':\n",
    "        print('comprou via cartao de credito')\n",
    "    elif opcao == 'Cartao de Debito':\n",
    "            print('comprou via cartao de Debito')\n",
    "    elif opcao == 'Pix':\n",
    "            print('Comprou via Pix')\n",
    "    else:\n",
    "          print('Pagamento invalido')        \n",
    "pagar = pagamento('Pix')\n"
   ]
  }
 ],
 "metadata": {
  "kernelspec": {
   "display_name": "Python 3",
   "language": "python",
   "name": "python3"
  },
  "language_info": {
   "codemirror_mode": {
    "name": "ipython",
    "version": 3
   },
   "file_extension": ".py",
   "mimetype": "text/x-python",
   "name": "python",
   "nbconvert_exporter": "python",
   "pygments_lexer": "ipython3",
   "version": "3.9.2"
  }
 },
 "nbformat": 4,
 "nbformat_minor": 2
}
